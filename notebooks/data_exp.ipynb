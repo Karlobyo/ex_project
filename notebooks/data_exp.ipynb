{
 "cells": [
  {
   "cell_type": "markdown",
   "id": "7c338418",
   "metadata": {},
   "source": [
    "# New NB"
   ]
  },
  {
   "cell_type": "code",
   "execution_count": null,
   "id": "aa97fab9",
   "metadata": {},
   "outputs": [],
   "source": [
    "3+5"
   ]
  },
  {
   "cell_type": "code",
   "execution_count": null,
   "id": "8d549561",
   "metadata": {},
   "outputs": [],
   "source": []
  }
 ],
 "metadata": {
  "kernelspec": {
   "display_name": "lewagon",
   "language": "python",
   "name": "python3"
  },
  "language_info": {
   "name": "python",
   "version": "3.10.6"
  }
 },
 "nbformat": 4,
 "nbformat_minor": 5
}

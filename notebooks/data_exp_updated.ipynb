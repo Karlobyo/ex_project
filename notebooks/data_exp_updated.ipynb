{
 "cells": [
  {
   "cell_type": "markdown",
   "id": "7c338418",
   "metadata": {},
   "source": [
    "# New NB"
   ]
  },
  {
   "cell_type": "code",
   "execution_count": null,
   "id": "aa97fab9",
   "metadata": {},
   "outputs": [],
   "source": [
    "3+5"
   ]
  },
  {
   "cell_type": "code",
   "execution_count": null,
   "id": "8d549561",
   "metadata": {},
   "outputs": [],
   "source": [
    "# this is a comment\n",
    "def addition(a,b):\n",
    "    print(a+b)"
   ]
  },
  {
   "cell_type": "markdown",
   "id": "183790d0",
   "metadata": {},
   "source": [
    "this is some random markdown"
   ]
  },
  {
   "cell_type": "markdown",
   "id": "24380ba7",
   "metadata": {},
   "source": []
  }
 ],
 "metadata": {
  "kernelspec": {
   "display_name": "Python 3 (ipykernel)",
   "language": "python",
   "name": "python3"
  },
  "language_info": {
   "codemirror_mode": {
    "name": "ipython",
    "version": 3
   },
   "file_extension": ".py",
   "mimetype": "text/x-python",
   "name": "python",
   "nbconvert_exporter": "python",
   "pygments_lexer": "ipython3",
   "version": "3.10.6"
  },
  "toc": {
   "base_numbering": 1,
   "nav_menu": {},
   "number_sections": true,
   "sideBar": true,
   "skip_h1_title": false,
   "title_cell": "Table of Contents",
   "title_sidebar": "Contents",
   "toc_cell": false,
   "toc_position": {},
   "toc_section_display": true,
   "toc_window_display": false
  }
 },
 "nbformat": 4,
 "nbformat_minor": 5
}
